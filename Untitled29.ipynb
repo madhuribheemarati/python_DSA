{
  "nbformat": 4,
  "nbformat_minor": 0,
  "metadata": {
    "colab": {
      "provenance": [],
      "authorship_tag": "ABX9TyMs4G13V/REzXkjY7ioVIA5",
      "include_colab_link": true
    },
    "kernelspec": {
      "name": "python3",
      "display_name": "Python 3"
    },
    "language_info": {
      "name": "python"
    }
  },
  "cells": [
    {
      "cell_type": "markdown",
      "metadata": {
        "id": "view-in-github",
        "colab_type": "text"
      },
      "source": [
        "<a href=\"https://colab.research.google.com/github/madhuribheemarati/python_DSA/blob/main/Untitled29.ipynb\" target=\"_parent\"><img src=\"https://colab.research.google.com/assets/colab-badge.svg\" alt=\"Open In Colab\"/></a>"
      ]
    },
    {
      "cell_type": "markdown",
      "source": [
        " **super** is a inbulit function or method whenever i dont want to go for a reassigning of value i directly call super keyword\n",
        "\n",
        "In the below example super class is **nothing **\n",
        "\n",
        "using super class we can reinitialise the previous class\n"
      ],
      "metadata": {
        "id": "dHwXQIk2rr65"
      }
    },
    {
      "cell_type": "code",
      "execution_count": 7,
      "metadata": {
        "colab": {
          "base_uri": "https://localhost:8080/"
        },
        "id": "MbSVCk-TnZHL",
        "outputId": "ac104bfe-6939-44ee-baae-2aa56052ae3c"
      },
      "outputs": [
        {
          "output_type": "stream",
          "name": "stdout",
          "text": [
            "madhu madhu@gmail.com\n",
            "madhu\n"
          ]
        }
      ],
      "source": [
        "class nothing:\n",
        "     def __init__(self,mentor):\n",
        "         self.mentor = mentor\n",
        "     def mentor_name(self):\n",
        "         print(self.mentor)\n",
        "class datascience(nothing):\n",
        "     def __init__(self,mentor,mentor_mail_id):\n",
        "         #self.mentor = mentor\n",
        "         super().__init__(mentor)\n",
        "         self.mentor_mail_id = mentor_mail_id\n",
        "     def show_info(self):\n",
        "         print(self.mentor , self.mentor_mail_id)\n",
        "python_basic = datascience(\"madhu\" , \"madhu@gmail.com\")\n",
        "python_basic.show_info()\n",
        "python_basic.mentor_name()"
      ]
    },
    {
      "cell_type": "code",
      "source": [
        "import time\n",
        "class timer:\n",
        "    def __init__(self):\n",
        "        self.start_time = time.time()\n",
        "    def task(self):\n",
        "        time_spent = time.time() - self.start_time\n",
        "        print(time_spent)\n",
        "    def __del__(self):\n",
        "        print(\"\")\n",
        "    def __str__(self):\n",
        "        return \"this is class timer\"\n",
        "\n",
        "t1=timer()\n",
        "t1.task()\n",
        "print(t1)"
      ],
      "metadata": {
        "colab": {
          "base_uri": "https://localhost:8080/"
        },
        "id": "hWUAwp31uSjC",
        "outputId": "bf842bf0-191e-44db-c476-5bb1271b301b"
      },
      "execution_count": 13,
      "outputs": [
        {
          "output_type": "stream",
          "name": "stdout",
          "text": [
            "3.0517578125e-05\n",
            "this is class timer\n",
            "\n"
          ]
        }
      ]
    },
    {
      "cell_type": "markdown",
      "source": [
        "**DECORATOR**\n",
        "IT WAS IN PYTHON WHERE THE PROPERTIES OF ONE FUNCTION INTO ANOTHER FUNCTION AND SAME GOES WITH THE CLASSES"
      ],
      "metadata": {
        "id": "0QBps2m1yQCe"
      }
    },
    {
      "cell_type": "code",
      "source": [
        "def test(func):\n",
        "    def inner_test():\n",
        "        print( \"this is the start of my inner test \")\n",
        "        func()\n",
        "        print(\"this is my end of the inner test\")\n",
        "    return inner_test\n",
        "\n",
        "@test\n",
        "def test1():\n",
        "    print(\"this is my test1\")\n",
        "test1()\n",
        "test(test1)"
      ],
      "metadata": {
        "colab": {
          "base_uri": "https://localhost:8080/",
          "height": 156
        },
        "id": "i41GMrkk0jwb",
        "outputId": "5d3ab239-36d2-456d-a7dd-0dae8da773fb"
      },
      "execution_count": 17,
      "outputs": [
        {
          "output_type": "stream",
          "name": "stdout",
          "text": [
            "this is the start of my inner test \n",
            "this is my test1\n",
            "this is my end of the inner test\n"
          ]
        },
        {
          "output_type": "execute_result",
          "data": {
            "text/plain": [
              "<function __main__.test.<locals>.inner_test()>"
            ],
            "text/html": [
              "<div style=\"max-width:800px; border: 1px solid var(--colab-border-color);\"><style>\n",
              "      pre.function-repr-contents {\n",
              "        overflow-x: auto;\n",
              "        padding: 8px 12px;\n",
              "        max-height: 500px;\n",
              "      }\n",
              "\n",
              "      pre.function-repr-contents.function-repr-contents-collapsed {\n",
              "        cursor: pointer;\n",
              "        max-height: 100px;\n",
              "      }\n",
              "    </style>\n",
              "    <pre style=\"white-space: initial; background:\n",
              "         var(--colab-secondary-surface-color); padding: 8px 12px;\n",
              "         border-bottom: 1px solid var(--colab-border-color);\"><b>test.&lt;locals&gt;.inner_test</b><br/>def inner_test()</pre><pre class=\"function-repr-contents function-repr-contents-collapsed\" style=\"\"><a class=\"filepath\" style=\"display:none\" href=\"#\">/content/&lt;ipython-input-17-389a925e5de8&gt;</a>&lt;no docstring&gt;</pre></div>"
            ]
          },
          "metadata": {},
          "execution_count": 17
        }
      ]
    },
    {
      "cell_type": "markdown",
      "source": [
        "PUBLIC\n",
        "PRIVATE\n",
        "PROTECTED\n",
        "\n",
        "PUBLIC-Accesible every where\n",
        "PROTECTED-Accessible within the class and within the package not outside\n",
        "PRIVATE-Accessible just within the class\n",
        "\n",
        "----> when you want to access private variable then you have to give a class name then only you can give variable name"
      ],
      "metadata": {
        "id": "pu1QEl_O7_CI"
      }
    },
    {
      "cell_type": "code",
      "source": [
        "class madhu:\n",
        "    def __init__(self,subject):\n",
        "        self.__subject = subject\n",
        "    @property\n",
        "    def subject(self):\n",
        "        return self.__subject\n",
        "    @subject.setter\n",
        "    def subject(self,subject):\n",
        "        return self.__subject\n",
        "madhu1 = madhu(\"python\")\n",
        "madhu1.subject"
      ],
      "metadata": {
        "colab": {
          "base_uri": "https://localhost:8080/",
          "height": 36
        },
        "id": "pScTkafT-Awt",
        "outputId": "7de64f82-b947-4220-d509-2c17270fa6f8"
      },
      "execution_count": 20,
      "outputs": [
        {
          "output_type": "execute_result",
          "data": {
            "text/plain": [
              "'python'"
            ],
            "application/vnd.google.colaboratory.intrinsic+json": {
              "type": "string"
            }
          },
          "metadata": {},
          "execution_count": 20
        }
      ]
    }
  ]
}