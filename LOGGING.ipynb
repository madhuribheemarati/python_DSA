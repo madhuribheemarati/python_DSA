{
  "nbformat": 4,
  "nbformat_minor": 0,
  "metadata": {
    "colab": {
      "provenance": [],
      "authorship_tag": "ABX9TyNjpaWOn7BLnMbPc/aEX+lD",
      "include_colab_link": true
    },
    "kernelspec": {
      "name": "python3",
      "display_name": "Python 3"
    },
    "language_info": {
      "name": "python"
    }
  },
  "cells": [
    {
      "cell_type": "markdown",
      "metadata": {
        "id": "view-in-github",
        "colab_type": "text"
      },
      "source": [
        "<a href=\"https://colab.research.google.com/github/madhuribheemarati/python_DSA/blob/main/LOGGING.ipynb\" target=\"_parent\"><img src=\"https://colab.research.google.com/assets/colab-badge.svg\" alt=\"Open In Colab\"/></a>"
      ]
    },
    {
      "cell_type": "code",
      "execution_count": 1,
      "metadata": {
        "colab": {
          "base_uri": "https://localhost:8080/"
        },
        "id": "jwbA19UcxZZY",
        "outputId": "90eb6215-9618-40c9-b4db-f5030a483762"
      },
      "outputs": [
        {
          "output_type": "stream",
          "name": "stderr",
          "text": [
            "ERROR:root:Division by 0 error\n"
          ]
        }
      ],
      "source": [
        "import logging\n",
        "logging.basicConfig(filename=\"Madhuri.txt\",\n",
        "                    filemode='a',\n",
        "                    format=\"%(asctime)s %(levelname)s-%(message)s\",\n",
        "                    datefmt=\"%Y-%m-%d %H:%M:%S\")\n",
        "i=10\n",
        "try:\n",
        "    i=i/0\n",
        "except:\n",
        "    logging.error(\"Division by 0 error\")"
      ]
    }
  ]
}