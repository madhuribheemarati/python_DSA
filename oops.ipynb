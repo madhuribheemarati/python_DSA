{
  "nbformat": 4,
  "nbformat_minor": 0,
  "metadata": {
    "colab": {
      "provenance": [],
      "authorship_tag": "ABX9TyOIT+eQuny/h7ky2b+f6DTm",
      "include_colab_link": true
    },
    "kernelspec": {
      "name": "python3",
      "display_name": "Python 3"
    },
    "language_info": {
      "name": "python"
    }
  },
  "cells": [
    {
      "cell_type": "markdown",
      "metadata": {
        "id": "view-in-github",
        "colab_type": "text"
      },
      "source": [
        "<a href=\"https://colab.research.google.com/github/madhuribheemarati/python_DSA/blob/main/oops.ipynb\" target=\"_parent\"><img src=\"https://colab.research.google.com/assets/colab-badge.svg\" alt=\"Open In Colab\"/></a>"
      ]
    },
    {
      "cell_type": "code",
      "execution_count": null,
      "metadata": {
        "id": "ELRAU8IN02pE"
      },
      "outputs": [],
      "source": [
        "class list_ops:\n",
        "    a=10\n",
        "    l=[4,5,7,7,8,9,9]\n",
        "    def extractfromindex(madhu,l,index):\n",
        "        return l[index]\n",
        "    def extractrangedata(madhu,l,start,end):\n",
        "        return l[start:end]\n",
        "    def extracteven(madhu,l):\n",
        "        l1=[]\n",
        "        for i in l:\n",
        "            if i%2==0:\n",
        "                l1.append(i)\n",
        "        return l1\n",
        "\n"
      ]
    },
    {
      "cell_type": "code",
      "source": [
        "\n",
        "first_obj=list_ops()\n",
        "first_obj.extractfromindex([2,3,4,5,6],4)"
      ],
      "metadata": {
        "colab": {
          "base_uri": "https://localhost:8080/"
        },
        "id": "zoxUfMAy1EWx",
        "outputId": "4612d9e0-81fe-4e63-8617-33b410861282"
      },
      "execution_count": null,
      "outputs": [
        {
          "output_type": "execute_result",
          "data": {
            "text/plain": [
              "6"
            ]
          },
          "metadata": {},
          "execution_count": 3
        }
      ]
    },
    {
      "cell_type": "code",
      "source": [
        "first_obj.extractrangedata([2,34,5,6,7,8],0,4)\n"
      ],
      "metadata": {
        "colab": {
          "base_uri": "https://localhost:8080/"
        },
        "id": "_lyzetCz1J9P",
        "outputId": "eb341314-6fed-4f63-b81b-56d7ed36bfb7"
      },
      "execution_count": null,
      "outputs": [
        {
          "output_type": "execute_result",
          "data": {
            "text/plain": [
              "[2, 34, 5, 6]"
            ]
          },
          "metadata": {},
          "execution_count": 5
        }
      ]
    },
    {
      "cell_type": "code",
      "source": [
        "class book:\n",
        "    def __init__(self,name,title,pageno):\n",
        "      self.name_of_book=name\n",
        "      self.title_of_book=title\n",
        "      self.no_of_pages=pageno\n",
        "    def extract_details(self):\n",
        "        print(self.name_of_book,self.title_of_book,self.no_of_pages)"
      ],
      "metadata": {
        "id": "5Xlpg43KFP-g"
      },
      "execution_count": null,
      "outputs": []
    },
    {
      "cell_type": "code",
      "source": [
        "madhu=book('dsa','practicaldsa',456)\n",
        "ronik=book('ds','implementation of ds','678')\n",
        "washen=book('ml','machine learning',789)"
      ],
      "metadata": {
        "id": "crfWNa90F_EW"
      },
      "execution_count": null,
      "outputs": []
    },
    {
      "cell_type": "code",
      "source": [
        "washen.extract_details()"
      ],
      "metadata": {
        "colab": {
          "base_uri": "https://localhost:8080/"
        },
        "id": "nz1cks7tHbby",
        "outputId": "7113303e-044a-43c6-896a-cd9377acfb5c"
      },
      "execution_count": null,
      "outputs": [
        {
          "output_type": "stream",
          "name": "stdout",
          "text": [
            "ml machine learning 789\n"
          ]
        }
      ]
    },
    {
      "cell_type": "code",
      "source": [
        "ronik.name_of_book"
      ],
      "metadata": {
        "colab": {
          "base_uri": "https://localhost:8080/",
          "height": 36
        },
        "id": "6dCPKEuTI1i-",
        "outputId": "7da0184e-db42-4c21-d29a-4d27d65c30a1"
      },
      "execution_count": null,
      "outputs": [
        {
          "output_type": "execute_result",
          "data": {
            "text/plain": [
              "'ds'"
            ],
            "application/vnd.google.colaboratory.intrinsic+json": {
              "type": "string"
            }
          },
          "metadata": {},
          "execution_count": 38
        }
      ]
    },
    {
      "cell_type": "code",
      "source": [
        "class book:\n",
        "    def __init__(self):\n",
        "      self.name_of_book=\"dsa\"\n",
        "      self.title_of_book=\"practical\"\n",
        "      self.no_of_pages=561\n",
        "    def extract_details(self):\n",
        "        print(self.name_of_book,self.title_of_book,self.no_of_pages)"
      ],
      "metadata": {
        "id": "3oHZsbr4L5WQ"
      },
      "execution_count": null,
      "outputs": []
    },
    {
      "cell_type": "code",
      "source": [
        "class gmail_operation:\n",
        "    def __init__(self,userid,password):\n",
        "        self.userid=userid\n",
        "        self.password=password\n",
        "        self.url= \"https://mail.google.com/mail/u/1/#inbox\"\n",
        "    def login(self):\n",
        "        print(\"take userid \" +  self.userid +\n",
        "              \"  take password \"+ self.password +\n",
        "              \" hit url \"+ self.url)\n",
        "        print(\"login\")\n",
        "    def read_mail(self):\n",
        "        print(\"read mail for\"+ self.userid +\" \"+ self.password)\n",
        "    def reply_mail(self):\n",
        "        print(\"reply mail for\"+ self.userid +\" \"+ self.password)\n",
        "user1=gmail_operation(\"madhu\",\"madhu123\")\n",
        "user1.login()"
      ],
      "metadata": {
        "colab": {
          "base_uri": "https://localhost:8080/"
        },
        "id": "hgHcYF_Vxzif",
        "outputId": "8cb7b079-d515-45ab-f1b3-3153e24e735e"
      },
      "execution_count": null,
      "outputs": [
        {
          "output_type": "stream",
          "name": "stdout",
          "text": [
            "take userid madhu  take password madhu123 hit url https://mail.google.com/mail/u/1/#inbox\n",
            "login\n"
          ]
        }
      ]
    },
    {
      "cell_type": "code",
      "source": [
        "from functools import reduce\n",
        "class calculator:\n",
        "    def __init__(self,username):\n",
        "        self.username=username\n",
        "    def add(self,*args):\n",
        "        return sum(args)\n",
        "    def sub(self,*args):\n",
        "        return reduce(lambda x,y:x-y,args)\n",
        "    def mul(self,*args):\n",
        "        return reduce(lambda x,y:x*y,args)\n",
        "    def div(self,*args):\n",
        "        return reduce(lambda x,y:x/y,args)\n",
        "himanshu=calculator(\"MADHURI\")\n",
        "himanshu.add(3,4,5,6,7,8)\n",
        "himanshu.mul(5,3)"
      ],
      "metadata": {
        "colab": {
          "base_uri": "https://localhost:8080/"
        },
        "id": "-FII-zcH3Ns0",
        "outputId": "b09fa197-9ece-457f-ed22-655e8a1d450a"
      },
      "execution_count": null,
      "outputs": [
        {
          "output_type": "execute_result",
          "data": {
            "text/plain": [
              "15"
            ]
          },
          "metadata": {},
          "execution_count": 13
        }
      ]
    },
    {
      "cell_type": "markdown",
      "source": [
        "**INHERITANCE**"
      ],
      "metadata": {
        "id": "1HhZvyHMSgYI"
      }
    },
    {
      "cell_type": "code",
      "source": [
        "class a:\n",
        "    def test(self):\n",
        "        print(\"this test method is a part of class a\")\n",
        "    def test1(self):\n",
        "        print(\"this test1 method is a part of class a\")\n",
        "obj_a=a()\n",
        "obj_a.test()\n",
        "class b(a):\n",
        "    pass\n",
        "obj_b=b()\n",
        "obj_b.test1()"
      ],
      "metadata": {
        "colab": {
          "base_uri": "https://localhost:8080/"
        },
        "id": "NoRsZcTUSk3j",
        "outputId": "44d6cfd2-bd71-4a95-b1dc-ebd5389a3e75"
      },
      "execution_count": null,
      "outputs": [
        {
          "output_type": "stream",
          "name": "stdout",
          "text": [
            "this test method is a part of class a\n",
            "this test1 method is a part of class a\n"
          ]
        }
      ]
    },
    {
      "cell_type": "code",
      "source": [
        "class lecture:\n",
        "    def topic(self):\n",
        "        print(\"today's class we are discussing about oops concept in oops\")\n",
        "    def timing(self):\n",
        "        print(\"timings for todays class is 9 am Ist\")\n",
        "    def end_time(self):\n",
        "        print(\"today i will try to end class bit early\")"
      ],
      "metadata": {
        "id": "tFlfYADhWFbu"
      },
      "execution_count": 1,
      "outputs": []
    },
    {
      "cell_type": "code",
      "source": [
        "class student(lecture):\n",
        "    def student_details(self):\n",
        "        print(\"this class will give you a student details\")\n",
        "    def timing(Self):\n",
        "        print(\"this is a timing fun from student class\")\n",
        "naval=student()\n",
        "naval.topic()\n",
        "satish=student()\n",
        "satish.timing()"
      ],
      "metadata": {
        "colab": {
          "base_uri": "https://localhost:8080/"
        },
        "id": "GJgF-R92XPDd",
        "outputId": "aa8462a1-fdb6-4e3c-c805-edd248d72d97"
      },
      "execution_count": 3,
      "outputs": [
        {
          "output_type": "stream",
          "name": "stdout",
          "text": [
            "today's class we are discussing about oops concept in oops\n",
            "timings for todays class is 9 am Ist\n"
          ]
        }
      ]
    },
    {
      "cell_type": "code",
      "source": [
        "class teacher(student,lecture):\n",
        "    def details(Self):\n",
        "        print(\"this will give you details about taecher\")\n",
        "sudh=teacher()\n",
        "sudh.timing()\n",
        "krish=teacher()\n",
        "krish.end_time()\n"
      ],
      "metadata": {
        "colab": {
          "base_uri": "https://localhost:8080/"
        },
        "id": "N39dcVUEY8ff",
        "outputId": "b49f0a36-c3d3-4aea-e6c5-8a0a8ffe0e0c"
      },
      "execution_count": 9,
      "outputs": [
        {
          "output_type": "stream",
          "name": "stdout",
          "text": [
            "timings for todays class is 9 am Ist\n",
            "today i will try to end class bit early\n"
          ]
        }
      ]
    }
  ]
}