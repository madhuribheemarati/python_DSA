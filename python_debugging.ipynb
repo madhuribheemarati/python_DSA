{
  "nbformat": 4,
  "nbformat_minor": 0,
  "metadata": {
    "colab": {
      "provenance": [],
      "authorship_tag": "ABX9TyOpIWE592e33vJdxLdFHUeS",
      "include_colab_link": true
    },
    "kernelspec": {
      "name": "python3",
      "display_name": "Python 3"
    },
    "language_info": {
      "name": "python"
    }
  },
  "cells": [
    {
      "cell_type": "markdown",
      "metadata": {
        "id": "view-in-github",
        "colab_type": "text"
      },
      "source": [
        "<a href=\"https://colab.research.google.com/github/madhuribheemarati/python_DSA/blob/main/python_debugging.ipynb\" target=\"_parent\"><img src=\"https://colab.research.google.com/assets/colab-badge.svg\" alt=\"Open In Colab\"/></a>"
      ]
    },
    {
      "cell_type": "code",
      "execution_count": 1,
      "metadata": {
        "colab": {
          "base_uri": "https://localhost:8080/"
        },
        "id": "CHahNFrtvs7s",
        "outputId": "27245ae5-295e-4f34-8614-079733e52a05"
      },
      "outputs": [
        {
          "output_type": "stream",
          "name": "stderr",
          "text": [
            "ERROR:root:attempted to divide by zero\n"
          ]
        }
      ],
      "source": [
        "import logging\n",
        "logging.basicConfig(level=logging.DEBUG)\n",
        "def calculate(a,b):\n",
        "    logging.debug(f\"calculating{a}divided by{b}\")\n",
        "    return a/b\n",
        "try:\n",
        "    result=calculate(10,0)\n",
        "except ZeroDivisionError:\n",
        "    logging.error(\"attempted to divide by zero\")"
      ]
    }
  ]
}