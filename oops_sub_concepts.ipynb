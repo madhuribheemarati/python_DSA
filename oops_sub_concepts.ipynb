{
  "nbformat": 4,
  "nbformat_minor": 0,
  "metadata": {
    "colab": {
      "provenance": [],
      "authorship_tag": "ABX9TyOfCKudPZUKMDmitl1YxMtb",
      "include_colab_link": true
    },
    "kernelspec": {
      "name": "python3",
      "display_name": "Python 3"
    },
    "language_info": {
      "name": "python"
    }
  },
  "cells": [
    {
      "cell_type": "markdown",
      "metadata": {
        "id": "view-in-github",
        "colab_type": "text"
      },
      "source": [
        "<a href=\"https://colab.research.google.com/github/madhuribheemarati/python_DSA/blob/main/oops_sub_concepts.ipynb\" target=\"_parent\"><img src=\"https://colab.research.google.com/assets/colab-badge.svg\" alt=\"Open In Colab\"/></a>"
      ]
    },
    {
      "cell_type": "markdown",
      "source": [
        "# **POLYMORPHISM**\n",
        "\n",
        "POLY- MANY\n",
        "MORPHISM - VARIETY OR  IT MEANS OBJECTS ARE SAME BUT NATURE OF OBJECTS ARE DIFFERENR AT DIFFERENT SCENARIOS"
      ],
      "metadata": {
        "id": "iNC1gI4iu6M5"
      }
    },
    {
      "cell_type": "code",
      "source": [
        "def test(a,b):\n",
        "  return a+b\n",
        "test(3,4)\n",
        "test(\"madhu\",\"ri\")"
      ],
      "metadata": {
        "colab": {
          "base_uri": "https://localhost:8080/",
          "height": 36
        },
        "id": "IVRf3TDpvqfD",
        "outputId": "60577f0c-590f-4201-ecbe-bc61cc5c3a4f"
      },
      "execution_count": 4,
      "outputs": [
        {
          "output_type": "execute_result",
          "data": {
            "text/plain": [
              "'madhuri'"
            ],
            "application/vnd.google.colaboratory.intrinsic+json": {
              "type": "string"
            }
          },
          "metadata": {},
          "execution_count": 4
        }
      ]
    },
    {
      "cell_type": "markdown",
      "source": [
        "in the above example, + operator performs 2 kinds of actions where when we given the integers (3,4) it performs addition operation.\n",
        "when we give the strings,it performed concatenation operation\n",
        "\n",
        "here + operator is same but it performs 2 types of operation based on the scenarios"
      ],
      "metadata": {
        "id": "O0kX8IObwF--"
      }
    },
    {
      "cell_type": "code",
      "source": [
        "class nothing:\n",
        "  def student(self):\n",
        "    pass\n",
        "class datascience(nothing):\n",
        "  def student(self):\n",
        "    print(\"this will give details about data science student\")\n",
        "class bigdata(nothing):\n",
        "  def student(self):\n",
        "    print(\"this will give detail about big data student\")\n",
        "yash=datascience()\n",
        "farhana=bigdata()\n",
        "yash.student()\n",
        "farhana.student()"
      ],
      "metadata": {
        "colab": {
          "base_uri": "https://localhost:8080/"
        },
        "id": "DTMVeJdHwgwJ",
        "outputId": "b1da17a9-25ef-4177-8aaf-1856fbae6f2f"
      },
      "execution_count": 7,
      "outputs": [
        {
          "output_type": "stream",
          "name": "stdout",
          "text": [
            "this will give details about data science student\n",
            "this will give detail about big data student\n"
          ]
        }
      ]
    },
    {
      "cell_type": "markdown",
      "source": [
        "By METHOD OVERRIDING,we can achieve polymorphism"
      ],
      "metadata": {
        "id": "Wp8uERVAxus-"
      }
    },
    {
      "cell_type": "code",
      "source": [
        "class bigdata:\n",
        "  def __init__(self,number_of_class,number_of_student):\n",
        "    self.number_of_class=number_of_class\n",
        "    self.number_of_student=number_of_student\n",
        "  def __add__(self,other):\n",
        "    return bigdata(self.number_of_class+other.number_of_class,self.number_of_student+other.number_of_student)\n",
        "c1=bigdata(1,10)\n",
        "c2=bigdata(2,12)\n",
        "result=c1+c2\n",
        "print(result.number_of_class,result.number_of_student)"
      ],
      "metadata": {
        "colab": {
          "base_uri": "https://localhost:8080/"
        },
        "id": "AdHcsgMLyQob",
        "outputId": "12536c0d-e7d9-4271-db6e-4f7ab5b8daa7"
      },
      "execution_count": 8,
      "outputs": [
        {
          "output_type": "stream",
          "name": "stdout",
          "text": [
            "3 22\n"
          ]
        }
      ]
    },
    {
      "cell_type": "code",
      "source": [
        "class nothing:\n",
        "  def student(self):\n",
        "    return \"this is a student\"\n",
        "class datascience(nothing):\n",
        "  def student(self):\n",
        "    print(\"this will give me a details about data science\")\n",
        "sudh=nothing()\n",
        "sudh.student()\n",
        "madhu=datascience()\n",
        "madhu.student()"
      ],
      "metadata": {
        "colab": {
          "base_uri": "https://localhost:8080/"
        },
        "id": "oRiuOOmM21aw",
        "outputId": "462f3396-0fa5-43f4-9117-4a7134cc64c1"
      },
      "execution_count": 11,
      "outputs": [
        {
          "output_type": "stream",
          "name": "stdout",
          "text": [
            "this will give me a details about data science\n"
          ]
        }
      ]
    },
    {
      "cell_type": "code",
      "source": [
        "len(\"madhu\")"
      ],
      "metadata": {
        "colab": {
          "base_uri": "https://localhost:8080/"
        },
        "id": "NB_enwJf37Xu",
        "outputId": "8ae721d5-9803-4162-d1fc-def78e281cb5"
      },
      "execution_count": 12,
      "outputs": [
        {
          "output_type": "execute_result",
          "data": {
            "text/plain": [
              "5"
            ]
          },
          "metadata": {},
          "execution_count": 12
        }
      ]
    },
    {
      "cell_type": "code",
      "source": [
        "len([1,2,3,4,5,6])"
      ],
      "metadata": {
        "colab": {
          "base_uri": "https://localhost:8080/"
        },
        "id": "2RGncWHg3_YO",
        "outputId": "1184064a-3bc0-4405-d8bf-b474a9b71b66"
      },
      "execution_count": 13,
      "outputs": [
        {
          "output_type": "execute_result",
          "data": {
            "text/plain": [
              "6"
            ]
          },
          "metadata": {},
          "execution_count": 13
        }
      ]
    },
    {
      "cell_type": "markdown",
      "source": [
        "IF YOUR STATE OF THE OBJECT IS GOING TO BE CHANGED BY BASIC PROPERTIES OF THE METHODS OF OBJECT ARE SAME,THAT IS CALLED POLYMORPHISM"
      ],
      "metadata": {
        "id": "lWJE5L9C4LFt"
      }
    },
    {
      "cell_type": "markdown",
      "source": [
        "# **ENCAPSULATION**"
      ],
      "metadata": {
        "id": "H7nQP6z54n1e"
      }
    },
    {
      "cell_type": "markdown",
      "source": [
        "ENCAPSULATION MEANS HIDING A DETAIL"
      ],
      "metadata": {
        "id": "GmZ7w9Kt490h"
      }
    },
    {
      "cell_type": "code",
      "source": [
        "class test:\n",
        "  def __init__(self):\n",
        "    self.__x=\"sudh\"\n",
        "    self.y=\"suh\"\n",
        "    self.z=\"nothing\"\n",
        "  def __test_meth(self):\n",
        "    return \"this is just a test\"\n",
        "  def access_var(self):\n",
        "    return self.__x\n",
        "  def update_var(self,data):\n",
        "    self.__x=data\n",
        "t1  =  test()\n",
        "t1.update_var(23432424)\n",
        "t1.access_var()"
      ],
      "metadata": {
        "colab": {
          "base_uri": "https://localhost:8080/"
        },
        "id": "96PHnn2Y4rdI",
        "outputId": "fd48103c-8f66-4bca-eac4-30df68bdca6d"
      },
      "execution_count": 17,
      "outputs": [
        {
          "output_type": "execute_result",
          "data": {
            "text/plain": [
              "23432424"
            ]
          },
          "metadata": {},
          "execution_count": 17
        }
      ]
    }
  ]
}